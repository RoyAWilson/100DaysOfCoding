{
 "cells": [
  {
   "cell_type": "markdown",
   "metadata": {},
   "source": [
    "# Day 1 of 100 Days of Coding Challenge\n",
    "### Create a program to generate a band name from town of birth and pet's name\n",
    "##### My attempt before watching tutorial"
   ]
  },
  {
   "cell_type": "code",
   "execution_count": 4,
   "metadata": {},
   "outputs": [
    {
     "name": "stdout",
     "output_type": "stream",
     "text": [
      "Welcome to the band name generator\n",
      "\n",
      "Thank you for your entries, I think a good name for your band could be:  Folkestone Jackson\n"
     ]
    }
   ],
   "source": [
    "# Start by inputting the required information:\n",
    "print('Welcome to the band name generator\\n')\n",
    "town = input('Please enter the town where your were born:\\n')\n",
    "pet_name = input('And now enter the name of your pet:\\n')\n",
    "\n",
    "# Now concatinate and print the result:\n",
    "\n",
    "print(f'Thank you for your entries, I think a good name for your band could be:  {town} {pet_name}')\n",
    "\n",
    "# Tutor's way of inputting something - print('hello ' + input('What is your name?))\n",
    "# Ok if you are only going to use the name in the greeting, I suppose."
   ]
  }
 ],
 "metadata": {
  "kernelspec": {
   "display_name": "Python 3",
   "language": "python",
   "name": "python3"
  },
  "language_info": {
   "codemirror_mode": {
    "name": "ipython",
    "version": 3
   },
   "file_extension": ".py",
   "mimetype": "text/x-python",
   "name": "python",
   "nbconvert_exporter": "python",
   "pygments_lexer": "ipython3",
   "version": "3.12.2"
  }
 },
 "nbformat": 4,
 "nbformat_minor": 2
}
